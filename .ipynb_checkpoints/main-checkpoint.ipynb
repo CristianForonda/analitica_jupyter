{
 "cells": [
  {
   "cell_type": "code",
   "execution_count": 1,
   "id": "6dcdb32d",
   "metadata": {},
   "outputs": [],
   "source": [
    "import pandas as pd"
   ]
  },
  {
   "cell_type": "code",
   "execution_count": 2,
   "id": "f2a49924",
   "metadata": {},
   "outputs": [],
   "source": [
    "#importamos pandas\n",
    "import pandas"
   ]
  },
  {
   "cell_type": "code",
   "execution_count": 3,
   "id": "335017b9",
   "metadata": {},
   "outputs": [],
   "source": [
    "import numpy as np"
   ]
  },
  {
   "cell_type": "code",
   "execution_count": 4,
   "id": "d7a97e12",
   "metadata": {},
   "outputs": [],
   "source": [
    "import os"
   ]
  },
  {
   "cell_type": "code",
   "execution_count": 5,
   "id": "1bed2b56",
   "metadata": {},
   "outputs": [],
   "source": [
    "import shutil"
   ]
  },
  {
   "cell_type": "code",
   "execution_count": 6,
   "id": "ecead887",
   "metadata": {},
   "outputs": [],
   "source": [
    "#importamos openpyxl\n",
    "import openpyxl"
   ]
  },
  {
   "cell_type": "code",
   "execution_count": 7,
   "id": "6561d78d",
   "metadata": {},
   "outputs": [],
   "source": [
    "#importamos pytest\n",
    "import pytest"
   ]
  },
  {
   "cell_type": "code",
   "execution_count": 8,
   "id": "f24080bd",
   "metadata": {},
   "outputs": [
    {
     "name": "stdout",
     "output_type": "stream",
     "text": [
      "Requirement already satisfied: matplotlib in c:\\users\\crist\\anaconda3\\lib\\site-packages (3.3.4)\n",
      "Requirement already satisfied: pillow>=6.2.0 in c:\\users\\crist\\anaconda3\\lib\\site-packages (from matplotlib) (8.2.0)\n",
      "Requirement already satisfied: kiwisolver>=1.0.1 in c:\\users\\crist\\anaconda3\\lib\\site-packages (from matplotlib) (1.3.1)\n",
      "Requirement already satisfied: pyparsing!=2.0.4,!=2.1.2,!=2.1.6,>=2.0.3 in c:\\users\\crist\\anaconda3\\lib\\site-packages (from matplotlib) (2.4.7)\n",
      "Requirement already satisfied: python-dateutil>=2.1 in c:\\users\\crist\\anaconda3\\lib\\site-packages (from matplotlib) (2.8.1)\n",
      "Requirement already satisfied: cycler>=0.10 in c:\\users\\crist\\anaconda3\\lib\\site-packages (from matplotlib) (0.10.0)\n",
      "Requirement already satisfied: numpy>=1.15 in c:\\users\\crist\\anaconda3\\lib\\site-packages (from matplotlib) (1.20.1)\n",
      "Requirement already satisfied: six in c:\\users\\crist\\anaconda3\\lib\\site-packages (from cycler>=0.10->matplotlib) (1.15.0)\n"
     ]
    }
   ],
   "source": [
    "!pip install matplotlib"
   ]
  },
  {
   "cell_type": "code",
   "execution_count": 9,
   "id": "95459bbc",
   "metadata": {},
   "outputs": [],
   "source": [
    "#importamos matplotlib\n",
    "import matplotlib"
   ]
  },
  {
   "cell_type": "code",
   "execution_count": 10,
   "id": "80adcd81",
   "metadata": {},
   "outputs": [
    {
     "name": "stdout",
     "output_type": "stream",
     "text": [
      "Requirement already satisfied: fpdf in c:\\users\\crist\\anaconda3\\lib\\site-packages (1.7.2)\n"
     ]
    }
   ],
   "source": [
    "#importamos fpdf\n",
    "!pip install fpdf "
   ]
  },
  {
   "cell_type": "code",
   "execution_count": 11,
   "id": "8c5e4cc4",
   "metadata": {},
   "outputs": [],
   "source": [
    "import fpdf"
   ]
  },
  {
   "cell_type": "code",
   "execution_count": 12,
   "id": "7a0f7390",
   "metadata": {},
   "outputs": [
    {
     "name": "stdout",
     "output_type": "stream",
     "text": [
      "Requirement already satisfied: pygal in c:\\users\\crist\\anaconda3\\lib\\site-packages (3.0.0)\n"
     ]
    }
   ],
   "source": [
    "#importamos pygal\n",
    "!pip install pygal"
   ]
  },
  {
   "cell_type": "code",
   "execution_count": 13,
   "id": "379d2323",
   "metadata": {},
   "outputs": [],
   "source": [
    "import pygal"
   ]
  },
  {
   "cell_type": "code",
   "execution_count": 14,
   "id": "e3b4804a",
   "metadata": {},
   "outputs": [],
   "source": [
    "from fpdf import FPDF"
   ]
  },
  {
   "cell_type": "code",
   "execution_count": 15,
   "id": "323462a6",
   "metadata": {},
   "outputs": [],
   "source": [
    "import matplotlib as mpl"
   ]
  },
  {
   "cell_type": "code",
   "execution_count": 16,
   "id": "49d6be23",
   "metadata": {},
   "outputs": [],
   "source": [
    "import matplotlib.pyplot as plt"
   ]
  },
  {
   "cell_type": "code",
   "execution_count": 17,
   "id": "a9b32190",
   "metadata": {},
   "outputs": [],
   "source": [
    "from matplotlib.ticker import ScalarFormatter"
   ]
  },
  {
   "cell_type": "code",
   "execution_count": 18,
   "id": "4200673a",
   "metadata": {},
   "outputs": [
    {
     "name": "stdout",
     "output_type": "stream",
     "text": [
      "Requirement already satisfied: cairosvg in c:\\users\\crist\\anaconda3\\lib\\site-packages (2.5.2)\n",
      "Requirement already satisfied: cssselect2 in c:\\users\\crist\\anaconda3\\lib\\site-packages (from cairosvg) (0.6.0)\n",
      "Requirement already satisfied: defusedxml in c:\\users\\crist\\anaconda3\\lib\\site-packages (from cairosvg) (0.7.1)\n",
      "Requirement already satisfied: pillow in c:\\users\\crist\\anaconda3\\lib\\site-packages (from cairosvg) (8.2.0)\n",
      "Requirement already satisfied: cairocffi in c:\\users\\crist\\anaconda3\\lib\\site-packages (from cairosvg) (1.3.0)\n",
      "Requirement already satisfied: tinycss2 in c:\\users\\crist\\anaconda3\\lib\\site-packages (from cairosvg) (1.1.1)\n",
      "Requirement already satisfied: cffi>=1.1.0 in c:\\users\\crist\\anaconda3\\lib\\site-packages (from cairocffi->cairosvg) (1.14.5)\n",
      "Requirement already satisfied: pycparser in c:\\users\\crist\\anaconda3\\lib\\site-packages (from cffi>=1.1.0->cairocffi->cairosvg) (2.20)\n",
      "Requirement already satisfied: webencodings in c:\\users\\crist\\anaconda3\\lib\\site-packages (from cssselect2->cairosvg) (0.5.1)\n"
     ]
    }
   ],
   "source": [
    "#importamos cairosvg\n",
    "!pip install cairosvg"
   ]
  },
  {
   "cell_type": "code",
   "execution_count": 19,
   "id": "a5f043cf",
   "metadata": {},
   "outputs": [
    {
     "name": "stdout",
     "output_type": "stream",
     "text": [
      "Requirement already satisfied: cairosvg in c:\\users\\crist\\anaconda3\\lib\\site-packages (2.5.2)\n",
      "Requirement already satisfied: cssselect2 in c:\\users\\crist\\anaconda3\\lib\\site-packages (from cairosvg) (0.6.0)\n",
      "Requirement already satisfied: tinycss2 in c:\\users\\crist\\anaconda3\\lib\\site-packages (from cairosvg) (1.1.1)\n",
      "Requirement already satisfied: defusedxml in c:\\users\\crist\\anaconda3\\lib\\site-packages (from cairosvg) (0.7.1)\n",
      "Requirement already satisfied: cairocffi in c:\\users\\crist\\anaconda3\\lib\\site-packages (from cairosvg) (1.3.0)\n",
      "Requirement already satisfied: pillow in c:\\users\\crist\\anaconda3\\lib\\site-packages (from cairosvg) (8.2.0)\n",
      "Requirement already satisfied: cffi>=1.1.0 in c:\\users\\crist\\anaconda3\\lib\\site-packages (from cairocffi->cairosvg) (1.14.5)\n",
      "Requirement already satisfied: pycparser in c:\\users\\crist\\anaconda3\\lib\\site-packages (from cffi>=1.1.0->cairocffi->cairosvg) (2.20)\n",
      "Requirement already satisfied: webencodings in c:\\users\\crist\\anaconda3\\lib\\site-packages (from cssselect2->cairosvg) (0.5.1)\n"
     ]
    }
   ],
   "source": [
    "!pip install cairosvg"
   ]
  },
  {
   "cell_type": "code",
   "execution_count": 20,
   "id": "9fa70aa5",
   "metadata": {},
   "outputs": [
    {
     "ename": "OSError",
     "evalue": "no library called \"cairo-2\" was found\nno library called \"cairo\" was found\nno library called \"libcairo-2\" was found\ncannot load library 'libcairo.so.2': error 0x7e\ncannot load library 'libcairo.2.dylib': error 0x7e\ncannot load library 'libcairo-2.dll': error 0x7e",
     "output_type": "error",
     "traceback": [
      "\u001b[1;31m---------------------------------------------------------------------------\u001b[0m",
      "\u001b[1;31mOSError\u001b[0m                                   Traceback (most recent call last)",
      "\u001b[1;32m<ipython-input-20-3ecd6109d96d>\u001b[0m in \u001b[0;36m<module>\u001b[1;34m\u001b[0m\n\u001b[1;32m----> 1\u001b[1;33m \u001b[1;32mimport\u001b[0m \u001b[0mcairosvg\u001b[0m\u001b[1;33m\u001b[0m\u001b[1;33m\u001b[0m\u001b[0m\n\u001b[0m",
      "\u001b[1;32m~\\anaconda3\\lib\\site-packages\\cairosvg\\__init__.py\u001b[0m in \u001b[0;36m<module>\u001b[1;34m\u001b[0m\n\u001b[0;32m     24\u001b[0m \u001b[1;33m\u001b[0m\u001b[0m\n\u001b[0;32m     25\u001b[0m \u001b[1;31m# VERSION is used in the \"url\" module imported by \"surface\"\u001b[0m\u001b[1;33m\u001b[0m\u001b[1;33m\u001b[0m\u001b[1;33m\u001b[0m\u001b[0m\n\u001b[1;32m---> 26\u001b[1;33m \u001b[1;32mfrom\u001b[0m \u001b[1;33m.\u001b[0m \u001b[1;32mimport\u001b[0m \u001b[0msurface\u001b[0m  \u001b[1;31m# noqa isort:skip\u001b[0m\u001b[1;33m\u001b[0m\u001b[1;33m\u001b[0m\u001b[0m\n\u001b[0m\u001b[0;32m     27\u001b[0m \u001b[1;33m\u001b[0m\u001b[0m\n\u001b[0;32m     28\u001b[0m \u001b[1;33m\u001b[0m\u001b[0m\n",
      "\u001b[1;32m~\\anaconda3\\lib\\site-packages\\cairosvg\\surface.py\u001b[0m in \u001b[0;36m<module>\u001b[1;34m\u001b[0m\n\u001b[0;32m      7\u001b[0m \u001b[1;32mimport\u001b[0m \u001b[0mio\u001b[0m\u001b[1;33m\u001b[0m\u001b[1;33m\u001b[0m\u001b[0m\n\u001b[0;32m      8\u001b[0m \u001b[1;33m\u001b[0m\u001b[0m\n\u001b[1;32m----> 9\u001b[1;33m \u001b[1;32mimport\u001b[0m \u001b[0mcairocffi\u001b[0m \u001b[1;32mas\u001b[0m \u001b[0mcairo\u001b[0m\u001b[1;33m\u001b[0m\u001b[1;33m\u001b[0m\u001b[0m\n\u001b[0m\u001b[0;32m     10\u001b[0m \u001b[1;33m\u001b[0m\u001b[0m\n\u001b[0;32m     11\u001b[0m \u001b[1;32mfrom\u001b[0m \u001b[1;33m.\u001b[0m\u001b[0mcolors\u001b[0m \u001b[1;32mimport\u001b[0m \u001b[0mcolor\u001b[0m\u001b[1;33m,\u001b[0m \u001b[0mnegate_color\u001b[0m\u001b[1;33m\u001b[0m\u001b[1;33m\u001b[0m\u001b[0m\n",
      "\u001b[1;32m~\\anaconda3\\lib\\site-packages\\cairocffi\\__init__.py\u001b[0m in \u001b[0;36m<module>\u001b[1;34m\u001b[0m\n\u001b[0;32m     46\u001b[0m \u001b[1;33m\u001b[0m\u001b[0m\n\u001b[0;32m     47\u001b[0m \u001b[1;33m\u001b[0m\u001b[0m\n\u001b[1;32m---> 48\u001b[1;33m cairo = dlopen(\n\u001b[0m\u001b[0;32m     49\u001b[0m     \u001b[0mffi\u001b[0m\u001b[1;33m,\u001b[0m \u001b[1;33m(\u001b[0m\u001b[1;34m'cairo-2'\u001b[0m\u001b[1;33m,\u001b[0m \u001b[1;34m'cairo'\u001b[0m\u001b[1;33m,\u001b[0m \u001b[1;34m'libcairo-2'\u001b[0m\u001b[1;33m)\u001b[0m\u001b[1;33m,\u001b[0m\u001b[1;33m\u001b[0m\u001b[1;33m\u001b[0m\u001b[0m\n\u001b[0;32m     50\u001b[0m     ('libcairo.so.2', 'libcairo.2.dylib', 'libcairo-2.dll'))\n",
      "\u001b[1;32m~\\anaconda3\\lib\\site-packages\\cairocffi\\__init__.py\u001b[0m in \u001b[0;36mdlopen\u001b[1;34m(ffi, library_names, filenames)\u001b[0m\n\u001b[0;32m     43\u001b[0m     error_message = '\\n'.join(  # pragma: no cover\n\u001b[0;32m     44\u001b[0m         str(exception) for exception in exceptions)\n\u001b[1;32m---> 45\u001b[1;33m     \u001b[1;32mraise\u001b[0m \u001b[0mOSError\u001b[0m\u001b[1;33m(\u001b[0m\u001b[0merror_message\u001b[0m\u001b[1;33m)\u001b[0m  \u001b[1;31m# pragma: no cover\u001b[0m\u001b[1;33m\u001b[0m\u001b[1;33m\u001b[0m\u001b[0m\n\u001b[0m\u001b[0;32m     46\u001b[0m \u001b[1;33m\u001b[0m\u001b[0m\n\u001b[0;32m     47\u001b[0m \u001b[1;33m\u001b[0m\u001b[0m\n",
      "\u001b[1;31mOSError\u001b[0m: no library called \"cairo-2\" was found\nno library called \"cairo\" was found\nno library called \"libcairo-2\" was found\ncannot load library 'libcairo.so.2': error 0x7e\ncannot load library 'libcairo.2.dylib': error 0x7e\ncannot load library 'libcairo-2.dll': error 0x7e"
     ]
    }
   ],
   "source": [
    "import cairosvg"
   ]
  },
  {
   "cell_type": "code",
   "execution_count": 40,
   "id": "50ecf295",
   "metadata": {},
   "outputs": [],
   "source": [
    "import src.files.funciones.constructor as construct"
   ]
  },
  {
   "cell_type": "code",
   "execution_count": 41,
   "id": "7a2f8ea3",
   "metadata": {},
   "outputs": [],
   "source": [
    "import src.files.funciones.calculo as calculo"
   ]
  },
  {
   "cell_type": "code",
   "execution_count": 42,
   "id": "96fdf186",
   "metadata": {},
   "outputs": [],
   "source": [
    "import src.files.funciones.calificacion as calif"
   ]
  },
  {
   "cell_type": "code",
   "execution_count": 43,
   "id": "a7e76bbf",
   "metadata": {},
   "outputs": [],
   "source": [
    "import src.files.analitica.analitica as analit"
   ]
  },
  {
   "cell_type": "code",
   "execution_count": 44,
   "id": "07dbd16d",
   "metadata": {},
   "outputs": [],
   "source": [
    "import src.files.analitica.calificacion as califan"
   ]
  },
  {
   "cell_type": "code",
   "execution_count": 45,
   "id": "23c11c59",
   "metadata": {},
   "outputs": [],
   "source": [
    "import src.files.organizacional.calculo as calorg"
   ]
  },
  {
   "cell_type": "code",
   "execution_count": 46,
   "id": "0f9531c6",
   "metadata": {},
   "outputs": [],
   "source": [
    "# CARGAR LOS DATOS - Se almacenan en un dataframe\n",
    "# Cargar los datos de la segunda fase ( se añadieron nuevos tokens )\n",
    "\n",
    "dfInicial = pd.read_excel(\"./data/respuestasCompletas3.xlsx\")"
   ]
  },
  {
   "cell_type": "code",
   "execution_count": 47,
   "id": "3ffcac11",
   "metadata": {},
   "outputs": [],
   "source": [
    "# Estadistica de conteos\n",
    "# Cuenta el número de muestras por pregunta\n",
    "counts = dfInicial.groupby(\"Token\")[\n",
    "    \"¿Cómo se encuentra actualmente la Arquitectura Empresarial de la Organización?\"\n",
    "].count()"
   ]
  },
  {
   "cell_type": "code",
   "execution_count": 48,
   "id": "c6a74428",
   "metadata": {},
   "outputs": [],
   "source": [
    "def prueba_estructura():\n",
    "\n",
    "    print(\"\\n Inicio test \\n\")\n",
    "\n",
    "    dfEstructura = pd.read_excel(\"data/estructura_datos.xlsx\")\n",
    "\n",
    "    if len(dfEstructura[\"columns\"]) == len(dfInicial.columns):\n",
    "\n",
    "        print(\"Comparacion - las estructuras coinciden. \\n\")\n",
    "\n",
    "        for i in range(len(dfEstructura)):\n",
    "            if (dfEstructura.loc[i, \"columns\"] in dfInicial) is True:\n",
    "                print(\"columna \" + str(i + 1) + \" :\", \"los campos coinciden\")\n",
    "            else:\n",
    "                print(\n",
    "                    \"columna \" + str(i + 1) + \" :\",\n",
    "                    dfEstructura.loc[i, \"columns\"] in dfInicial,\n",
    "                    \", No coinciden\",\n",
    "                )\n",
    "                exit()\n",
    "    else:\n",
    "        print(\"error: El numero de columnas es diferente\")\n",
    "        exit()\n",
    "\n",
    "    print(\"\\n Fin test correctamente \\n\")"
   ]
  },
  {
   "cell_type": "code",
   "execution_count": 49,
   "id": "dda1ca8b",
   "metadata": {},
   "outputs": [],
   "source": [
    "class coeficiente_analitico:\n",
    "    def arquitectura():\n",
    "\n",
    "        # print(\"\\n ------ CALCULAR CALIFICACIONES - ARQUITECTURA ANALÍTICA ------ \\n\")\n",
    "        # llega como una lista de diccionarios\n",
    "        calificaciones = calif.calcularCalificaciondfInicial(dfInicial)\n",
    "\n",
    "        # print(\"\\n ------Lista Guardada de los metodos--------------- \\n\")\n",
    "        # print(\"lista: \", calificaciones, \"\\n\")\n",
    "\n",
    "        # print(\"\\n ------PREGUNTA 5 Calificaciones (ESCALA)------------- \\n\")\n",
    "        l5 = calif.calcularCalificacionEscala(dfInicial)\n",
    "        # print(\"listap5\", l5, \"\\n\")\n",
    "\n",
    "        # print(\"\\n ------Lista final antes (sin la pregunta 5 de escala)------------ \\n\")\n",
    "        # print(calificaciones, \"\\n\")\n",
    "\n",
    "        # MODIFICAR LISTA INICIAL\n",
    "        nuevalista = construct.modificarLista(calificaciones, l5)\n",
    "\n",
    "        # Lista final\n",
    "        # print(\"\\n -----Lista final (al actualizar respuestas de pregunta 5)------ \\n\")\n",
    "        # print(nuevalista, \"\\n\")\n",
    "\n",
    "        # print(\"\\n ----Recalcular moda...(considerando respuestas de pregunta 5)---- \\n\")\n",
    "        # con lista seria distinto por que el data frame lo iba calculando por fila\n",
    "        # un nuevo metodo pero para calcular la moda de cada {}\n",
    "        global final\n",
    "        final = calculo.modaRecalculo(nuevalista)\n",
    "        print(\n",
    "            \"\\n ------Lista COEFICIENTE ANALITICO (al recalcular modas)----------  \\n\"\n",
    "        )\n",
    "        # print(final, \"\\n\")\n",
    "\n",
    "        print(\n",
    "            \"\\n ------COEFICIENTE - ARQUITECTURA ANALÍTICA  RESULTADOS (DF con la la MODA actualizada)---------\\n\"\n",
    "        )\n",
    "        global dff2\n",
    "        dff2 = construct.construirDataframe(final)\n",
    "\n",
    "    def gestion():\n",
    "        # PRUEBAS SEGUNDO METODO\n",
    "        # print(\"\\n ------CALCULAR CALIFICACIONES - GESTIÓN DE DATOS -------------- \\n\")\n",
    "\n",
    "        global calgestion\n",
    "        calgestion = calif.calcularCalificacionGestionDatos(dfInicial)\n",
    "        # print(\" gestion: \", calgestion, \"\\n\")\n",
    "\n",
    "        # print(\"\\n ------COEFICIENTE GESTION DE DATOS RESULTADOS ------------------ \\n\")\n",
    "        global datosfinalgestion\n",
    "        datosfinalgestion = construct.construirDataframe(calgestion)\n",
    "\n",
    "    def analitica():\n",
    "        # print(\"\\n ------CALCULAR CALIFICACIONES - ANALÍTICA --------------------- \\n\")\n",
    "\n",
    "        # llega como una lista de diccionarios\n",
    "        calCanalitica = califan.calcularCalificacionC17(dfInicial)\n",
    "\n",
    "        # imprimo la lista\n",
    "        print(\n",
    "            \"\\n ------Lista Guardada de los metodos analitica ---------------------\\n\"\n",
    "        )\n",
    "        # print(\"lista: \", calCanalitica, \"\\n\")\n",
    "\n",
    "        print(\n",
    "            \"\\n -----Lista final (sin las preguntas 19,20,21,22 y 24 de escala) -------- \\n\"\n",
    "        )\n",
    "        # print(calCanalitica, \"\\n\")\n",
    "\n",
    "        # CALCULAR LAS PREGUNTAS DE REGLA\n",
    "        listap19 = califan.calcularCalificacionEscalaC19(dfInicial)\n",
    "        # print(\"listap19\", listap19, \"\\n\")\n",
    "\n",
    "        listap20 = califan.calcularCalificacionEscalaC20(dfInicial)\n",
    "        # print(\"listap20\", listap20, \"\\n\")\n",
    "\n",
    "        listap21 = califan.calcularCalificacionEscalaC21(dfInicial)\n",
    "        # print(\"listap21\", listap21, \"\\n\")\n",
    "\n",
    "        listap22 = califan.calcularCalificacionEscalaC22(dfInicial)\n",
    "        # print(\"listap22\", listap22, \"\\n\")\n",
    "\n",
    "        listap24 = califan.calcularCalificacionEscalaC24(dfInicial)\n",
    "        # print(\"listap24\", listap24, \"\\n\")\n",
    "\n",
    "        # MODIFICAR LISTA INICIAL de analitica 19\n",
    "        nuevalistaAnalitica = analit.modificarListaAnalitica(calCanalitica, listap19)\n",
    "\n",
    "        # Lista final CON C19\n",
    "        print(\n",
    "            \"\\n ------Lista final (al actualizar las respuestas de la pregunta 19)------------- \\n\"\n",
    "        )\n",
    "        # print(nuevalistaAnalitica, \"\\n\")\n",
    "\n",
    "        # MODIFICAR LISTA INICIAL de analitica 20\n",
    "        nuevalistaAnalitica = analit.modificarListaAnaliticaP20(calCanalitica, listap20)\n",
    "\n",
    "        # Lista final CON C20\n",
    "        print(\n",
    "            \"\\n ------Lista final (al actualizar las respuestas de la pregunta 20) ------ \\n\"\n",
    "        )\n",
    "        # print(nuevalistaAnalitica, \"\\n\")\n",
    "\n",
    "        # MODIFICAR LISTA INICIAL de analitica 21\n",
    "        nuevalistaAnalitica = analit.modificarListaAnaliticaP21(calCanalitica, listap21)\n",
    "\n",
    "        # Lista final CON C21\n",
    "        print(\n",
    "            \"\\n ------Lista final (al actualizar las respuestas de la pregunta 21)------------ \\n\"\n",
    "        )\n",
    "        # print(nuevalistaAnalitica, \"\\n\")\n",
    "\n",
    "        # MODIFICAR LISTA INICIAL de analitica 22\n",
    "        nuevalistaAnalitica = analit.modificarListaAnaliticaP22(calCanalitica, listap22)\n",
    "\n",
    "        # Lista final CON C22\n",
    "        print(\n",
    "            \"\\n ------Lista final (al actualizar las respuestas de la pregunta 22)--------- \\n\"\n",
    "        )\n",
    "        # print(nuevalistaAnalitica, \"\\n\")\n",
    "\n",
    "        # MODIFICAR LISTA INICIAL de analitica 24\n",
    "        nuevalistaAnalitica = analit.modificarListaAnaliticaP24(calCanalitica, listap24)\n",
    "\n",
    "        # Lista final CON C24\n",
    "        print(\n",
    "            \"\\n ------Lista final (al actualizar las respuestas de la pregunta 24)------------ \\n\"\n",
    "        )\n",
    "        # print(nuevalistaAnalitica, \"\\n\")\n",
    "\n",
    "        print(\n",
    "            \"\\n ------df hasta ahora con las calificaciones actualizadas. ----------------\\n\"\n",
    "        )\n",
    "        global dfCoefAnalitica\n",
    "        dfCoefAnalitica = construct.construirDataframe(nuevalistaAnalitica)\n",
    "\n",
    "        print(\n",
    "            \"\\n ------Recalcular moda...(actualizar la moda considerando las respuestas de las  preguntas de escala)----------- \\n\"\n",
    "        )\n",
    "\n",
    "        global finalCoefAbnalitica\n",
    "        finalCoefAbnalitica = calculo.modaRecalculoAnalitica(nuevalistaAnalitica)\n",
    "        print(\n",
    "            \"\\n ------Lista final de los resultados del COEFICIENTE ANALITICO (al recalcular las modas)------------- \\n\"\n",
    "        )\n",
    "        # print(finalCoefAbnalitica, \"\\n\")\n",
    "\n",
    "        print(\n",
    "            \"\\n ------COEFICIENTE ANALÍTICA RESULTADOS (con la la MODA actualizada)----------- \\n\"\n",
    "        )\n",
    "        global dfFinalCoefAnalitica\n",
    "        dfFinalCoefAnalitica = construct.construirDataframe(finalCoefAbnalitica)\n",
    "\n",
    "    def organizacional():\n",
    "        # print(\"\\n ------CALCULAR CALIFICACIONES - ORGANIZACIONAL ----------------\\n\")\n",
    "\n",
    "        # llega como una lista de diccionarios\n",
    "        calOrganizacional = calorg.calcularCalificacionOrganizacional(dfInicial)\n",
    "        # print(\" Organizacional: \", calOrganizacional, \"\\n\")\n",
    "\n",
    "        # print(\"\\n ------ COEFICIENTE ORGANIZACIONAL RESULTADOS ------------\\n\")\n",
    "        datosfinalOrganizacional = construct.construirDataframe(calOrganizacional)\n",
    "\n",
    "        # print(\"\\n ------RESULTADOS COEFICIENTE -----------------\\n\")\n",
    "\n",
    "        calorg.calcularResultadosCoeficiente(\n",
    "            final, calgestion, finalCoefAbnalitica, calOrganizacional\n",
    "        )\n",
    "\n",
    "        nuevo1 = pd.merge(dff2, datosfinalgestion, on=\"Token\")\n",
    "        nuevo2 = pd.merge(dfFinalCoefAnalitica, datosfinalOrganizacional, on=\"Token\")\n",
    "\n",
    "        # print(\"\\n ------ COEFICIENTES O----------\\n\")\n",
    "        construct.construirDataframe(nuevo1)\n",
    "\n",
    "        construct.construirDataframe(nuevo2)\n",
    "\n",
    "        # print(\"\\n -------DATAFRAME NUEVO--------------\\n\")\n",
    "        nuevoF = pd.merge(nuevo1, nuevo2, on=\"Token\")\n",
    "\n",
    "        construct.construirDataframe(nuevoF)\n",
    "\n",
    "        # print(nuevoF.columns)  # retorna las columnas del df\n",
    "\n",
    "        listafinal = []\n",
    "        for i in range(len(nuevoF)):\n",
    "            dfTotal = dict(\n",
    "                [\n",
    "                    (\"Token\", nuevoF.loc[i, \"Token\"]),\n",
    "                    (\"Arquitectura Analítica\", nuevoF.loc[i, \"MODA_A\"]),\n",
    "                    (\"Gestión de datos\", nuevoF.loc[i, \"MODA_B\"]),\n",
    "                    (\"Analítica\", nuevoF.loc[i, \"MODA_C\"]),\n",
    "                    (\"Organizacional\", nuevoF.loc[i, \"MODA_D\"]),\n",
    "                ]\n",
    "            )\n",
    "            # print(i, \"los datos\", dfTotal)\n",
    "\n",
    "            listafinal.append(dfTotal)\n",
    "\n",
    "        # print(\"\\n ------ BDD RESULTADOS FINALES -----------------\\n\")\n",
    "        construct.construirDataframe(listafinal)\n",
    "\n",
    "        dfFinal = pd.DataFrame(listafinal)\n",
    "        dfFinal[\"Coeficiente analitico\"] = dfFinal.mean(axis=1)\n",
    "\n",
    "        # dfFinal.to_excel(\"./data/resultados/ResultadoFinalCAC3.xlsx\")\n",
    "\n",
    "        # print(\"\\n ------ BDD RESULTADOS FINALES con todos los resultados--------\\n\")\n",
    "        # agregar al df inicial los resultados de lista final, por token\n",
    "\n",
    "        nuevoA = pd.merge(dfInicial, dfFinal, on=\"Token\")\n",
    "\n",
    "        construct.construirDataframe(nuevoA)\n",
    "\n",
    "        # print(nuevoA.columns)\n",
    "\n",
    "        # Este excel contiene todoas las respuestas a las preguntas y se le pega al final los resultados finales calculados\n",
    "        dfFinal2 = pd.DataFrame(nuevoA)\n",
    "\n",
    "        # dfFinal2.to_excel(\"./data/resultados/ConsolidadoCAC3.xlsx\")\n",
    "        dfFinal2.to_pickle(\"./data/resultados/ConsolidadoCAC3.pkl\")\n",
    "        return dfFinal2"
   ]
  },
  {
   "cell_type": "code",
   "execution_count": 50,
   "id": "dd23fe24",
   "metadata": {},
   "outputs": [
    {
     "name": "stdout",
     "output_type": "stream",
     "text": [
      "\n",
      " ------Lista COEFICIENTE ANALITICO (al recalcular modas)----------  \n",
      "\n",
      "\n",
      " ------COEFICIENTE - ARQUITECTURA ANALÍTICA  RESULTADOS (DF con la la MODA actualizada)---------\n",
      "\n",
      "\n",
      " ------Lista Guardada de los metodos analitica ---------------------\n",
      "\n",
      "\n",
      " -----Lista final (sin las preguntas 19,20,21,22 y 24 de escala) -------- \n",
      "\n",
      "\n",
      " ------Lista final (al actualizar las respuestas de la pregunta 19)------------- \n",
      "\n",
      "\n",
      " ------Lista final (al actualizar las respuestas de la pregunta 20) ------ \n",
      "\n",
      "\n",
      " ------Lista final (al actualizar las respuestas de la pregunta 21)------------ \n",
      "\n",
      "\n",
      " ------Lista final (al actualizar las respuestas de la pregunta 22)--------- \n",
      "\n",
      "\n",
      " ------Lista final (al actualizar las respuestas de la pregunta 24)------------ \n",
      "\n",
      "\n",
      " ------df hasta ahora con las calificaciones actualizadas. ----------------\n",
      "\n",
      "\n",
      " ------Recalcular moda...(actualizar la moda considerando las respuestas de las  preguntas de escala)----------- \n",
      "\n",
      "\n",
      " ------Lista final de los resultados del COEFICIENTE ANALITICO (al recalcular las modas)------------- \n",
      "\n",
      "\n",
      " ------COEFICIENTE ANALÍTICA RESULTADOS (con la la MODA actualizada)----------- \n",
      "\n",
      "0 d25 {'Token': '17442A02', 'C25': 1, 'C26': 1, 'C28': 0, 'C31': 0, 'C32a': 0, 'C32b': 0, 'C32c': 0, 'MODA_D': 0}\n",
      "---MIS LISTAS ------------------------------------------------------------------------------:\n",
      "\n",
      "--------------------------------------------------------------------------------------------------:\n",
      "\n",
      "listado\n",
      "['17442']\n",
      "Directory  tempR  Created \n"
     ]
    },
    {
     "ename": "AttributeError",
     "evalue": "module 'matplotlib.pyplot' has no attribute 'bar_label'",
     "output_type": "error",
     "traceback": [
      "\u001b[1;31m---------------------------------------------------------------------------\u001b[0m",
      "\u001b[1;31mAttributeError\u001b[0m                            Traceback (most recent call last)",
      "\u001b[1;32m<ipython-input-50-13ea4aeb6476>\u001b[0m in \u001b[0;36m<module>\u001b[1;34m\u001b[0m\n\u001b[0;32m     12\u001b[0m \u001b[1;33m\u001b[0m\u001b[0m\n\u001b[0;32m     13\u001b[0m \u001b[1;33m\u001b[0m\u001b[0m\n\u001b[1;32m---> 14\u001b[1;33m \u001b[0mmain\u001b[0m\u001b[1;33m(\u001b[0m\u001b[1;33m)\u001b[0m\u001b[1;33m\u001b[0m\u001b[1;33m\u001b[0m\u001b[0m\n\u001b[0m",
      "\u001b[1;32m<ipython-input-50-13ea4aeb6476>\u001b[0m in \u001b[0;36mmain\u001b[1;34m()\u001b[0m\n\u001b[0;32m      7\u001b[0m     \u001b[0mcoe\u001b[0m\u001b[1;33m.\u001b[0m\u001b[0morganizacional\u001b[0m\u001b[1;33m(\u001b[0m\u001b[1;33m)\u001b[0m\u001b[1;33m\u001b[0m\u001b[1;33m\u001b[0m\u001b[0m\n\u001b[0;32m      8\u001b[0m \u001b[1;33m\u001b[0m\u001b[0m\n\u001b[1;32m----> 9\u001b[1;33m     \u001b[1;32mimport\u001b[0m \u001b[0msrc\u001b[0m\u001b[1;33m.\u001b[0m\u001b[0mreport\u001b[0m\u001b[1;33m.\u001b[0m\u001b[0mreport\u001b[0m \u001b[1;32mas\u001b[0m \u001b[0mreport\u001b[0m\u001b[1;33m\u001b[0m\u001b[1;33m\u001b[0m\u001b[0m\n\u001b[0m\u001b[0;32m     10\u001b[0m \u001b[1;33m\u001b[0m\u001b[0m\n\u001b[0;32m     11\u001b[0m     \u001b[0mreport\u001b[0m\u001b[1;33m\u001b[0m\u001b[1;33m\u001b[0m\u001b[0m\n",
      "\u001b[1;32m~\\Desktop\\prod-cao-coeficiente-analitico-diego_dev (1)\\prod-cao-coeficiente-analitico-diego_dev\\src\\report\\report.py\u001b[0m in \u001b[0;36m<module>\u001b[1;34m\u001b[0m\n\u001b[0;32m    205\u001b[0m     \u001b[0mpdf\u001b[0m\u001b[1;33m.\u001b[0m\u001b[0mimage\u001b[0m\u001b[1;33m(\u001b[0m\u001b[1;34m\"src/report/plantilla.png\"\u001b[0m\u001b[1;33m,\u001b[0m \u001b[0mx\u001b[0m\u001b[1;33m=\u001b[0m\u001b[1;36m0\u001b[0m\u001b[1;33m,\u001b[0m \u001b[0my\u001b[0m\u001b[1;33m=\u001b[0m\u001b[1;36m0\u001b[0m\u001b[1;33m,\u001b[0m \u001b[0mw\u001b[0m\u001b[1;33m=\u001b[0m\u001b[1;36m210\u001b[0m\u001b[1;33m,\u001b[0m \u001b[0mh\u001b[0m\u001b[1;33m=\u001b[0m\u001b[1;36m297\u001b[0m\u001b[1;33m)\u001b[0m\u001b[1;33m\u001b[0m\u001b[1;33m\u001b[0m\u001b[0m\n\u001b[0;32m    206\u001b[0m     \u001b[0mpdf\u001b[0m\u001b[1;33m.\u001b[0m\u001b[0mheader_pdf\u001b[0m\u001b[1;33m(\u001b[0m\u001b[1;33m)\u001b[0m\u001b[1;33m\u001b[0m\u001b[1;33m\u001b[0m\u001b[0m\n\u001b[1;32m--> 207\u001b[1;33m     \u001b[0mpdf\u001b[0m\u001b[1;33m.\u001b[0m\u001b[0mgraphics_pdf\u001b[0m\u001b[1;33m(\u001b[0m\u001b[1;33m)\u001b[0m\u001b[1;33m\u001b[0m\u001b[1;33m\u001b[0m\u001b[0m\n\u001b[0m\u001b[0;32m    208\u001b[0m     \u001b[0mpdf\u001b[0m\u001b[1;33m.\u001b[0m\u001b[0mln\u001b[0m\u001b[1;33m(\u001b[0m\u001b[1;33m)\u001b[0m\u001b[1;33m\u001b[0m\u001b[1;33m\u001b[0m\u001b[0m\n\u001b[0;32m    209\u001b[0m     \u001b[0mpdf\u001b[0m\u001b[1;33m.\u001b[0m\u001b[0moutput\u001b[0m\u001b[1;33m(\u001b[0m\u001b[0mruta\u001b[0m \u001b[1;33m+\u001b[0m \u001b[1;34m\"reporte_\"\u001b[0m \u001b[1;33m+\u001b[0m \u001b[0mentidad\u001b[0m \u001b[1;33m+\u001b[0m \u001b[1;34m\".pdf\"\u001b[0m\u001b[1;33m)\u001b[0m\u001b[1;33m\u001b[0m\u001b[1;33m\u001b[0m\u001b[0m\n",
      "\u001b[1;32m~\\Desktop\\prod-cao-coeficiente-analitico-diego_dev (1)\\prod-cao-coeficiente-analitico-diego_dev\\src\\report\\report.py\u001b[0m in \u001b[0;36mgraphics_pdf\u001b[1;34m(self)\u001b[0m\n\u001b[0;32m     61\u001b[0m         \u001b[0mplt\u001b[0m\u001b[1;33m.\u001b[0m\u001b[0mxticks\u001b[0m\u001b[1;33m(\u001b[0m\u001b[0my_pos\u001b[0m\u001b[1;33m,\u001b[0m \u001b[0my_pos\u001b[0m \u001b[1;33m+\u001b[0m \u001b[1;36m1\u001b[0m\u001b[1;33m)\u001b[0m\u001b[1;33m\u001b[0m\u001b[1;33m\u001b[0m\u001b[0m\n\u001b[0;32m     62\u001b[0m \u001b[1;33m\u001b[0m\u001b[0m\n\u001b[1;32m---> 63\u001b[1;33m         \u001b[0mplt\u001b[0m\u001b[1;33m.\u001b[0m\u001b[0mbar_label\u001b[0m\u001b[1;33m(\u001b[0m\u001b[0mbarras\u001b[0m\u001b[1;33m,\u001b[0m \u001b[0mcolor\u001b[0m\u001b[1;33m=\u001b[0m\u001b[1;34m\"w\"\u001b[0m\u001b[1;33m,\u001b[0m \u001b[0mfontsize\u001b[0m\u001b[1;33m=\u001b[0m\u001b[1;36m12\u001b[0m\u001b[1;33m,\u001b[0m \u001b[0mfontweight\u001b[0m\u001b[1;33m=\u001b[0m\u001b[1;34m\"bold\"\u001b[0m\u001b[1;33m,\u001b[0m \u001b[0mpadding\u001b[0m\u001b[1;33m=\u001b[0m\u001b[1;33m-\u001b[0m\u001b[1;36m18\u001b[0m\u001b[1;33m)\u001b[0m\u001b[1;33m\u001b[0m\u001b[1;33m\u001b[0m\u001b[0m\n\u001b[0m\u001b[0;32m     64\u001b[0m \u001b[1;33m\u001b[0m\u001b[0m\n\u001b[0;32m     65\u001b[0m         \u001b[0max_dict\u001b[0m\u001b[1;33m.\u001b[0m\u001b[0mplot\u001b[0m\u001b[1;33m(\u001b[0m\u001b[0mperformance\u001b[0m\u001b[1;33m[\u001b[0m\u001b[1;36m0\u001b[0m\u001b[1;33m]\u001b[0m\u001b[1;33m,\u001b[0m \u001b[0mcolors_list\u001b[0m\u001b[1;33m[\u001b[0m\u001b[1;36m0\u001b[0m\u001b[1;33m]\u001b[0m\u001b[1;33m,\u001b[0m \u001b[0mlabel\u001b[0m\u001b[1;33m=\u001b[0m\u001b[0mobjects\u001b[0m\u001b[1;33m[\u001b[0m\u001b[1;36m0\u001b[0m\u001b[1;33m]\u001b[0m\u001b[1;33m)\u001b[0m\u001b[1;33m\u001b[0m\u001b[1;33m\u001b[0m\u001b[0m\n",
      "\u001b[1;31mAttributeError\u001b[0m: module 'matplotlib.pyplot' has no attribute 'bar_label'"
     ]
    },
    {
     "data": {
      "image/png": "[encoded data removed]",
      "text/plain": [
       "<Figure size 640x480 with 1 Axes>"
      ]
     },
     "metadata": {},
     "output_type": "display_data"
    }
   ],
   "source": [
    "def main():\n",
    "\n",
    "    coe = coeficiente_analitico\n",
    "    coe.arquitectura()\n",
    "    coe.gestion()\n",
    "    coe.analitica()\n",
    "    coe.organizacional()\n",
    "\n",
    "    import src.report.report as report\n",
    "\n",
    "    report\n",
    "\n",
    "\n",
    "main()"
   ]
  },
  {
   "cell_type": "code",
   "execution_count": null,
   "id": "01b0aba4",
   "metadata": {},
   "outputs": [],
   "source": []
  }
 ],
 "metadata": {
  "kernelspec": {
   "display_name": "Python 3",
   "language": "python",
   "name": "python3"
  },
  "language_info": {
   "codemirror_mode": {
    "name": "ipython",
    "version": 3
   },
   "file_extension": ".py",
   "mimetype": "text/x-python",
   "name": "python",
   "nbconvert_exporter": "python",
   "pygments_lexer": "ipython3",
   "version": "3.8.8"
  }
 },
 "nbformat": 4,
 "nbformat_minor": 5
}
