{
 "cells": [
  {
   "cell_type": "code",
   "execution_count": 2,
   "id": "ad4f12f0",
   "metadata": {},
   "outputs": [],
   "source": [
    "def modificarListaAnalitica(calif, lisp19):\n",
    "\n",
    "    nuevalista = []\n",
    "    for i in calif:\n",
    "        for j in lisp19:\n",
    "            if i[\"Token\"] == j[\"Token\"]:\n",
    "                i[\"C19\"] = j[\"C19\"]\n",
    "    return calif"
   ]
  },
  {
   "cell_type": "code",
   "execution_count": 3,
   "id": "8845c413",
   "metadata": {},
   "outputs": [],
   "source": [
    "def modificarListaAnaliticaP20(calif, lisp20):\n",
    "\n",
    "    nuevalista = []\n",
    "    for i in calif:\n",
    "        for j in lisp20:\n",
    "            if i[\"Token\"] == j[\"Token\"]:\n",
    "                i[\"C20\"] = j[\"C20\"]\n",
    "\n",
    "    return calif"
   ]
  },
  {
   "cell_type": "code",
   "execution_count": 4,
   "id": "e04b09ec",
   "metadata": {},
   "outputs": [],
   "source": [
    "def modificarListaAnaliticaP21(calif, lisp21):\n",
    "\n",
    "    nuevalista = []\n",
    "    for i in calif:\n",
    "        for j in lisp21:\n",
    "            if i[\"Token\"] == j[\"Token\"]:\n",
    "                i[\"C21\"] = j[\"C21\"]\n",
    "    return calif\n"
   ]
  },
  {
   "cell_type": "code",
   "execution_count": 5,
   "id": "e2201b9e",
   "metadata": {},
   "outputs": [],
   "source": [
    "def modificarListaAnaliticaP22(calif, lisp22):\n",
    "\n",
    "    nuevalista = []\n",
    "    for i in calif:\n",
    "        for j in lisp22:\n",
    "            if i[\"Token\"] == j[\"Token\"]:\n",
    "                i[\"C22\"] = j[\"C22\"]\n",
    "    return calif"
   ]
  },
  {
   "cell_type": "code",
   "execution_count": 6,
   "id": "20591814",
   "metadata": {},
   "outputs": [],
   "source": [
    "\n",
    "def modificarListaAnaliticaP24(calif, lisp24):\n",
    "\n",
    "    nuevalista = []\n",
    "    for i in calif:\n",
    "        for j in lisp24:\n",
    "            if i[\"Token\"] == j[\"Token\"]:\n",
    "                i[\"C24\"] = j[\"C24\"]\n",
    "    return calif\n"
   ]
  },
  {
   "cell_type": "code",
   "execution_count": null,
   "id": "b0d1e717",
   "metadata": {},
   "outputs": [],
   "source": []
  },
  {
   "cell_type": "code",
   "execution_count": null,
   "id": "92239443",
   "metadata": {},
   "outputs": [],
   "source": []
  }
 ],
 "metadata": {
  "kernelspec": {
   "display_name": "Python 3",
   "language": "python",
   "name": "python3"
  },
  "language_info": {
   "codemirror_mode": {
    "name": "ipython",
    "version": 3
   },
   "file_extension": ".py",
   "mimetype": "text/x-python",
   "name": "python",
   "nbconvert_exporter": "python",
   "pygments_lexer": "ipython3",
   "version": "3.8.8"
  }
 },
 "nbformat": 4,
 "nbformat_minor": 5
}
