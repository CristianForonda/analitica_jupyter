{
 "cells": [
  {
   "cell_type": "code",
   "execution_count": 1,
   "id": "1c7e893d",
   "metadata": {},
   "outputs": [],
   "source": [
    "import pandas as pd"
   ]
  },
  {
   "cell_type": "code",
   "execution_count": 2,
   "id": "99e7bd59",
   "metadata": {},
   "outputs": [],
   "source": [
    "# construir desde la listafinal un dataframe\n",
    "def construirDataframe(lista):\n",
    "    df = pd.DataFrame(lista)\n",
    "    # print(df)\n",
    "    return df"
   ]
  },
  {
   "cell_type": "code",
   "execution_count": 3,
   "id": "4434bdbe",
   "metadata": {},
   "outputs": [],
   "source": [
    "def actualizarLista(lista, dic):\n",
    "    # recorro la lista de diccionarios y la lista||dic de la pregunta 5, para actualizarlo\n",
    "    for z in lista:\n",
    "\n",
    "        z.dic.update({\"C5\": 5})\n",
    "        # print(z)"
   ]
  },
  {
   "cell_type": "code",
   "execution_count": 4,
   "id": "12dd1b19",
   "metadata": {},
   "outputs": [],
   "source": [
    "def modificarLista(calif, lisp5):\n",
    "\n",
    "    nuevalista = []\n",
    "    for i in calif:\n",
    "        for j in lisp5:\n",
    "            if i[\"Token\"] == j[\"Token\"]:\n",
    "                i[\"C5\"] = j[\"C5\"]\n",
    "    return calif"
   ]
  },
  {
   "cell_type": "code",
   "execution_count": null,
   "id": "18847cc8",
   "metadata": {},
   "outputs": [],
   "source": []
  }
 ],
 "metadata": {
  "kernelspec": {
   "display_name": "Python 3",
   "language": "python",
   "name": "python3"
  },
  "language_info": {
   "codemirror_mode": {
    "name": "ipython",
    "version": 3
   },
   "file_extension": ".py",
   "mimetype": "text/x-python",
   "name": "python",
   "nbconvert_exporter": "python",
   "pygments_lexer": "ipython3",
   "version": "3.8.8"
  }
 },
 "nbformat": 4,
 "nbformat_minor": 5
}
