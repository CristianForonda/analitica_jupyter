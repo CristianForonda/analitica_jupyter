{
 "cells": [
  {
   "cell_type": "code",
   "execution_count": 2,
   "id": "c4e71a42",
   "metadata": {},
   "outputs": [],
   "source": [
    "import numpy as np"
   ]
  },
  {
   "cell_type": "code",
   "execution_count": 3,
   "id": "84594e17",
   "metadata": {},
   "outputs": [],
   "source": [
    "import pandas as pd"
   ]
  },
  {
   "cell_type": "code",
   "execution_count": 4,
   "id": "45d30a4f",
   "metadata": {},
   "outputs": [],
   "source": [
    "import os"
   ]
  },
  {
   "cell_type": "code",
   "execution_count": 5,
   "id": "0016391f",
   "metadata": {},
   "outputs": [],
   "source": [
    "import shutil"
   ]
  },
  {
   "cell_type": "code",
   "execution_count": 6,
   "id": "71dd4fbd",
   "metadata": {},
   "outputs": [],
   "source": [
    "from fpdf import FPDF"
   ]
  },
  {
   "cell_type": "code",
   "execution_count": 7,
   "id": "c728e9d7",
   "metadata": {},
   "outputs": [],
   "source": [
    "import matplotlib as mpl"
   ]
  },
  {
   "cell_type": "code",
   "execution_count": 8,
   "id": "69c8df90",
   "metadata": {},
   "outputs": [],
   "source": [
    "import matplotlib.pyplot as plt"
   ]
  },
  {
   "cell_type": "code",
   "execution_count": 9,
   "id": "7b748ef4",
   "metadata": {},
   "outputs": [],
   "source": [
    "from matplotlib.ticker import ScalarFormatter"
   ]
  },
  {
   "cell_type": "code",
   "execution_count": 10,
   "id": "97ce071b",
   "metadata": {},
   "outputs": [],
   "source": [
    "import pygal"
   ]
  },
  {
   "cell_type": "code",
   "execution_count": 11,
   "id": "dc9bbe0b",
   "metadata": {},
   "outputs": [],
   "source": [
    "from pygal import Config"
   ]
  },
  {
   "cell_type": "code",
   "execution_count": 12,
   "id": "5160ab80",
   "metadata": {},
   "outputs": [],
   "source": [
    "from PIL import Image"
   ]
  },
  {
   "cell_type": "code",
   "execution_count": 13,
   "id": "4ffd8088",
   "metadata": {},
   "outputs": [],
   "source": [
    "from email.mime.multipart import MIMEMultipart"
   ]
  },
  {
   "cell_type": "code",
   "execution_count": 14,
   "id": "78b716d2",
   "metadata": {},
   "outputs": [],
   "source": [
    "from email.mime.application import MIMEApplication"
   ]
  },
  {
   "cell_type": "code",
   "execution_count": 15,
   "id": "f0f4b290",
   "metadata": {},
   "outputs": [],
   "source": [
    "from email.mime.text import MIMEText"
   ]
  },
  {
   "cell_type": "code",
   "execution_count": 16,
   "id": "ef7d5f38",
   "metadata": {},
   "outputs": [],
   "source": [
    "import smtplib"
   ]
  },
  {
   "cell_type": "code",
   "execution_count": 17,
   "id": "3899a12e",
   "metadata": {},
   "outputs": [],
   "source": [
    "import glob"
   ]
  },
  {
   "cell_type": "code",
   "execution_count": 18,
   "id": "bd0647ad",
   "metadata": {},
   "outputs": [
    {
     "ename": "ModuleNotFoundError",
     "evalue": "No module named 'credenciales'",
     "output_type": "error",
     "traceback": [
      "\u001b[1;31m---------------------------------------------------------------------------\u001b[0m",
      "\u001b[1;31mModuleNotFoundError\u001b[0m                       Traceback (most recent call last)",
      "\u001b[1;32m<ipython-input-18-d31debba5548>\u001b[0m in \u001b[0;36m<module>\u001b[1;34m\u001b[0m\n\u001b[1;32m----> 1\u001b[1;33m \u001b[1;32mimport\u001b[0m \u001b[0mcredenciales\u001b[0m \u001b[1;32mas\u001b[0m \u001b[0mcred\u001b[0m\u001b[1;33m\u001b[0m\u001b[1;33m\u001b[0m\u001b[0m\n\u001b[0m",
      "\u001b[1;31mModuleNotFoundError\u001b[0m: No module named 'credenciales'"
     ]
    }
   ],
   "source": [
    "import credenciales as cred"
   ]
  },
  {
   "cell_type": "code",
   "execution_count": null,
   "id": "a9649624",
   "metadata": {},
   "outputs": [],
   "source": [
    "plt.rcdefaults()"
   ]
  },
  {
   "cell_type": "code",
   "execution_count": null,
   "id": "e93c89be",
   "metadata": {},
   "outputs": [],
   "source": [
    "class PDF(FPDF):\n",
    "    def header_pdf(self):\n",
    "\n",
    "        self.set_text_color(60, 60, 60)\n",
    "        self.cell(200, -1, entidad, 0, 0, \"C\")\n",
    "        self.ln()\n",
    "        self.set_text_color(235, 235, 235)\n",
    "        self.set_font(\"Arial\", \"\", 15)\n",
    "        self.cell(334, 2, entidad, 0, 0, \"C\")\n",
    "        self.ln()\n",
    "\n",
    "    def graphics_pdf(self):\n",
    "\n",
    "        regex = entidad + \"A.*\"\n",
    "        df1 = pd.read_pickle(\"./data/resultados/ConsolidadoCAC3.pkl\")\n",
    "        df1 = df1[df1[\"Token\"].str.match(regex)]\n",
    "\n",
    "        objects = [\n",
    "            \"Arquitectura Analítica\",\n",
    "            \"Gestión de datos\",\n",
    "            \"Analítica\",\n",
    "            \"Organizacional\",\n",
    "        ]\n",
    "        y_pos = np.arange(len(objects))\n",
    "        performance = [\n",
    "            df1[\"Arquitectura Analítica\"].mean(),\n",
    "            df1[\"Gestión de datos\"].mean(),\n",
    "            df1[\"Analítica\"].mean(),\n",
    "            df1[\"Organizacional\"].mean(),\n",
    "        ]\n",
    "\n",
    "        colors_list = [\"cornflowerblue\", \"orange\", \"teal\", \"indianred\"]\n",
    "        fig, ax_dict = plt.subplots(facecolor=\"whitesmoke\")\n",
    "        ax_dict.set_facecolor(\"ghostwhite\")\n",
    "        barras = ax_dict.bar(y_pos, performance, align=\"center\", color=colors_list)\n",
    "        plt.xticks(y_pos, y_pos + 1)\n",
    "\n",
    "        plt.bar_label(barras, color=\"w\", fontsize=12, fontweight=\"bold\", padding=-18)\n",
    "\n",
    "        ax_dict.plot(performance[0], colors_list[0], label=objects[0])\n",
    "        ax_dict.plot(performance[1], colors_list[1], label=objects[1])\n",
    "        ax_dict.plot(performance[2], colors_list[2], label=objects[2])\n",
    "        ax_dict.plot(performance[3], colors_list[3], label=objects[3])\n",
    "\n",
    "        legend = ax_dict.legend(\n",
    "            loc=\"lower center\",\n",
    "            fontsize=\"9\",\n",
    "            ncol=4,\n",
    "            bbox_to_anchor=(0.49, -0.15, 0, 0.1),\n",
    "        )\n",
    "\n",
    "        # Put a nicer background color on the legend.\n",
    "        legend.get_frame()\n",
    "\n",
    "        plt.savefig(\n",
    "            tempR + \"fig_\" + entidad + \".png\",\n",
    "            orientation=\"portrait\",\n",
    "            transparent=False,\n",
    "            bbox_inches=None,\n",
    "            pad_inches=0,\n",
    "        )\n",
    "        self.image(tempR + \"fig_\" + entidad + \".png\", x=35, y=88, w=150, h=65)\n",
    "        plt.close()\n",
    "\n",
    "        # pai\n",
    "\n",
    "        crecimiento = 0\n",
    "        df2 = pd.DataFrame(performance)\n",
    "\n",
    "        prom_cre = df2.mean()\n",
    "\n",
    "        config = Config()\n",
    "        config.show_legend = False\n",
    "        Solid_Gauge = pygal.SolidGauge(\n",
    "            inner_radius=0.55,\n",
    "            half_pie=True,\n",
    "            margin=0,\n",
    "            explicit_size=0,\n",
    "            width=400,\n",
    "            height=300,\n",
    "            style=pygal.style.styles[\"default\"](value_font_size=38),\n",
    "            show_legend=False,\n",
    "        )\n",
    "\n",
    "        # data\n",
    "\n",
    "        Solid_Gauge.add(\n",
    "            \"A\",\n",
    "            [\n",
    "                {\n",
    "                    \"value\": prom_cre[0],\n",
    "                    \"max_value\": 5,\n",
    "                    \"color\": \"rgb(32, 69, 129)\",\n",
    "                },\n",
    "            ],\n",
    "        )\n",
    "\n",
    "        Solid_Gauge.render_to_png(tempR + \"render_\" + entidad + \".png\")\n",
    "\n",
    "        img = Image.open(tempR + \"render_\" + entidad + \".png\")\n",
    "        img = img.convert(\"RGBA\")\n",
    "\n",
    "        datas = img.getdata()\n",
    "\n",
    "        newData = []\n",
    "\n",
    "        for item in datas:\n",
    "            if item[0] == 255 and item[1] == 255 and item[2] == 255:\n",
    "                newData.append((255, 255, 255, 0))\n",
    "            else:\n",
    "                newData.append(item)\n",
    "\n",
    "        img.putdata(newData)\n",
    "        img.save(tempR + \"fig2_\" + entidad + \".png\", \"PNG\")\n",
    "\n",
    "        self.image(tempR + \"fig2_\" + entidad + \".png\", x=58, y=7, w=100, h=80)\n"
   ]
  },
  {
   "cell_type": "code",
   "execution_count": 19,
   "id": "f898be07",
   "metadata": {},
   "outputs": [],
   "source": [
    "def send_mail():\n",
    "    # create message object instance\n",
    "    msg = MIMEMultipart()\n",
    "\n",
    "    # setup the parameters of the message\n",
    "    password = cred.e_contraseña\n",
    "    msg[\"From\"] = cred.e_remitente\n",
    "    msg[\"To\"] = \", \".join(cred.e_destinatario)\n",
    "    msg[\"Subject\"] = cred.e_asunto\n",
    "    body = cred.e_mensaje\n",
    "    body = MIMEText(body)\n",
    "    msg.attach(body)\n",
    "\n",
    "    extension = \"pdf\"\n",
    "    dir_path_pdf = \"data/resultados/\"\n",
    "\n",
    "    all_filenames = [i for i in glob.glob(dir_path_pdf + \"*.{}\".format(extension))]\n",
    "    print(\"resultado 1: \", all_filenames)\n",
    "\n",
    "    for f in all_filenames:  # add files to the message\n",
    "        attachment = MIMEApplication(open(f, \"rb\").read())\n",
    "        attachment.add_header(\"Content-Disposition\", \"attachment\", filename=f)\n",
    "        msg.attach(attachment)\n",
    "\n",
    "    # crear server\n",
    "    server = smtplib.SMTP(\"smtp.gmail.com: 587\")\n",
    "    server.starttls()\n",
    "\n",
    "    # Login Credenciales\n",
    "    server.login(msg[\"From\"], password)\n",
    "\n",
    "    # enviar mensaje\n",
    "    server.sendmail(msg[\"From\"], cred.e_destinatario, msg.as_string())\n",
    "    server.quit()\n",
    "\n",
    "    print(\"email enviado correctamente a: %s:\" % (msg[\"To\"]))\n",
    "\n"
   ]
  },
  {
   "cell_type": "code",
   "execution_count": 20,
   "id": "bb64cc68",
   "metadata": {},
   "outputs": [
    {
     "ename": "FileNotFoundError",
     "evalue": "[Errno 2] No such file or directory: './data/resultados/ConsolidadoCAC3.pkl'",
     "output_type": "error",
     "traceback": [
      "\u001b[1;31m---------------------------------------------------------------------------\u001b[0m",
      "\u001b[1;31mFileNotFoundError\u001b[0m                         Traceback (most recent call last)",
      "\u001b[1;32m<ipython-input-20-02164770a315>\u001b[0m in \u001b[0;36m<module>\u001b[1;34m\u001b[0m\n\u001b[1;32m----> 1\u001b[1;33m \u001b[0mdf01\u001b[0m \u001b[1;33m=\u001b[0m \u001b[0mpd\u001b[0m\u001b[1;33m.\u001b[0m\u001b[0mread_pickle\u001b[0m\u001b[1;33m(\u001b[0m\u001b[1;34m\"./data/resultados/ConsolidadoCAC3.pkl\"\u001b[0m\u001b[1;33m)\u001b[0m\u001b[1;33m\u001b[0m\u001b[1;33m\u001b[0m\u001b[0m\n\u001b[0m\u001b[0;32m      2\u001b[0m \u001b[0mdf011\u001b[0m \u001b[1;33m=\u001b[0m \u001b[0mdf01\u001b[0m\u001b[1;33m[\u001b[0m\u001b[1;34m\"Token\"\u001b[0m\u001b[1;33m]\u001b[0m\u001b[1;33m.\u001b[0m\u001b[0mstr\u001b[0m\u001b[1;33m.\u001b[0m\u001b[0msplit\u001b[0m\u001b[1;33m(\u001b[0m\u001b[1;34m\"A\"\u001b[0m\u001b[1;33m)\u001b[0m\u001b[1;33m.\u001b[0m\u001b[0mstr\u001b[0m\u001b[1;33m[\u001b[0m\u001b[1;36m0\u001b[0m\u001b[1;33m]\u001b[0m\u001b[1;33m\u001b[0m\u001b[1;33m\u001b[0m\u001b[0m\n\u001b[0;32m      3\u001b[0m \u001b[0mdf011\u001b[0m \u001b[1;33m=\u001b[0m \u001b[0mdf011\u001b[0m\u001b[1;33m.\u001b[0m\u001b[0mdrop_duplicates\u001b[0m\u001b[1;33m(\u001b[0m\u001b[1;33m)\u001b[0m\u001b[1;33m\u001b[0m\u001b[1;33m\u001b[0m\u001b[0m\n",
      "\u001b[1;32m~\\anaconda3\\lib\\site-packages\\pandas\\io\\pickle.py\u001b[0m in \u001b[0;36mread_pickle\u001b[1;34m(filepath_or_buffer, compression, storage_options)\u001b[0m\n\u001b[0;32m    183\u001b[0m     \"\"\"\n\u001b[0;32m    184\u001b[0m     \u001b[0mexcs_to_catch\u001b[0m \u001b[1;33m=\u001b[0m \u001b[1;33m(\u001b[0m\u001b[0mAttributeError\u001b[0m\u001b[1;33m,\u001b[0m \u001b[0mImportError\u001b[0m\u001b[1;33m,\u001b[0m \u001b[0mModuleNotFoundError\u001b[0m\u001b[1;33m,\u001b[0m \u001b[0mTypeError\u001b[0m\u001b[1;33m)\u001b[0m\u001b[1;33m\u001b[0m\u001b[1;33m\u001b[0m\u001b[0m\n\u001b[1;32m--> 185\u001b[1;33m     with get_handle(\n\u001b[0m\u001b[0;32m    186\u001b[0m         \u001b[0mfilepath_or_buffer\u001b[0m\u001b[1;33m,\u001b[0m\u001b[1;33m\u001b[0m\u001b[1;33m\u001b[0m\u001b[0m\n\u001b[0;32m    187\u001b[0m         \u001b[1;34m\"rb\"\u001b[0m\u001b[1;33m,\u001b[0m\u001b[1;33m\u001b[0m\u001b[1;33m\u001b[0m\u001b[0m\n",
      "\u001b[1;32m~\\anaconda3\\lib\\site-packages\\pandas\\io\\common.py\u001b[0m in \u001b[0;36mget_handle\u001b[1;34m(path_or_buf, mode, encoding, compression, memory_map, is_text, errors, storage_options)\u001b[0m\n\u001b[0;32m    649\u001b[0m         \u001b[1;32melse\u001b[0m\u001b[1;33m:\u001b[0m\u001b[1;33m\u001b[0m\u001b[1;33m\u001b[0m\u001b[0m\n\u001b[0;32m    650\u001b[0m             \u001b[1;31m# Binary mode\u001b[0m\u001b[1;33m\u001b[0m\u001b[1;33m\u001b[0m\u001b[1;33m\u001b[0m\u001b[0m\n\u001b[1;32m--> 651\u001b[1;33m             \u001b[0mhandle\u001b[0m \u001b[1;33m=\u001b[0m \u001b[0mopen\u001b[0m\u001b[1;33m(\u001b[0m\u001b[0mhandle\u001b[0m\u001b[1;33m,\u001b[0m \u001b[0mioargs\u001b[0m\u001b[1;33m.\u001b[0m\u001b[0mmode\u001b[0m\u001b[1;33m)\u001b[0m\u001b[1;33m\u001b[0m\u001b[1;33m\u001b[0m\u001b[0m\n\u001b[0m\u001b[0;32m    652\u001b[0m         \u001b[0mhandles\u001b[0m\u001b[1;33m.\u001b[0m\u001b[0mappend\u001b[0m\u001b[1;33m(\u001b[0m\u001b[0mhandle\u001b[0m\u001b[1;33m)\u001b[0m\u001b[1;33m\u001b[0m\u001b[1;33m\u001b[0m\u001b[0m\n\u001b[0;32m    653\u001b[0m \u001b[1;33m\u001b[0m\u001b[0m\n",
      "\u001b[1;31mFileNotFoundError\u001b[0m: [Errno 2] No such file or directory: './data/resultados/ConsolidadoCAC3.pkl'"
     ]
    }
   ],
   "source": [
    "df01 = pd.read_pickle(\"./data/resultados/ConsolidadoCAC3.pkl\")\n",
    "df011 = df01[\"Token\"].str.split(\"A\").str[0]\n",
    "df011 = df011.drop_duplicates()"
   ]
  },
  {
   "cell_type": "code",
   "execution_count": 21,
   "id": "77b372e5",
   "metadata": {},
   "outputs": [
    {
     "ename": "NameError",
     "evalue": "name 'df011' is not defined",
     "output_type": "error",
     "traceback": [
      "\u001b[1;31m---------------------------------------------------------------------------\u001b[0m",
      "\u001b[1;31mNameError\u001b[0m                                 Traceback (most recent call last)",
      "\u001b[1;32m<ipython-input-21-50a847466949>\u001b[0m in \u001b[0;36m<module>\u001b[1;34m\u001b[0m\n\u001b[1;32m----> 1\u001b[1;33m \u001b[0mli\u001b[0m \u001b[1;33m=\u001b[0m \u001b[0mdf011\u001b[0m\u001b[1;33m.\u001b[0m\u001b[0mtolist\u001b[0m\u001b[1;33m(\u001b[0m\u001b[1;33m)\u001b[0m\u001b[1;33m\u001b[0m\u001b[1;33m\u001b[0m\u001b[0m\n\u001b[0m\u001b[0;32m      2\u001b[0m \u001b[0mprint\u001b[0m\u001b[1;33m(\u001b[0m\u001b[1;34m\"listado\"\u001b[0m\u001b[1;33m)\u001b[0m\u001b[1;33m\u001b[0m\u001b[1;33m\u001b[0m\u001b[0m\n\u001b[0;32m      3\u001b[0m \u001b[0mprint\u001b[0m\u001b[1;33m(\u001b[0m\u001b[0mli\u001b[0m\u001b[1;33m)\u001b[0m\u001b[1;33m\u001b[0m\u001b[1;33m\u001b[0m\u001b[0m\n",
      "\u001b[1;31mNameError\u001b[0m: name 'df011' is not defined"
     ]
    }
   ],
   "source": [
    "li = df011.tolist()\n",
    "print(\"listado\")\n",
    "print(li)"
   ]
  },
  {
   "cell_type": "code",
   "execution_count": 22,
   "id": "b81035f1",
   "metadata": {},
   "outputs": [
    {
     "ename": "FileNotFoundError",
     "evalue": "[WinError 3] El sistema no puede encontrar la ruta especificada: 'data/resultados/temp/'",
     "output_type": "error",
     "traceback": [
      "\u001b[1;31m---------------------------------------------------------------------------\u001b[0m",
      "\u001b[1;31mFileNotFoundError\u001b[0m                         Traceback (most recent call last)",
      "\u001b[1;32m<ipython-input-22-ce5e13c2b279>\u001b[0m in \u001b[0;36m<module>\u001b[1;34m\u001b[0m\n\u001b[0;32m      2\u001b[0m \u001b[0mtempR\u001b[0m \u001b[1;33m=\u001b[0m \u001b[0mruta\u001b[0m \u001b[1;33m+\u001b[0m \u001b[1;34m\"temp/\"\u001b[0m\u001b[1;33m\u001b[0m\u001b[1;33m\u001b[0m\u001b[0m\n\u001b[0;32m      3\u001b[0m \u001b[1;32mif\u001b[0m \u001b[1;32mnot\u001b[0m \u001b[0mos\u001b[0m\u001b[1;33m.\u001b[0m\u001b[0mpath\u001b[0m\u001b[1;33m.\u001b[0m\u001b[0mexists\u001b[0m\u001b[1;33m(\u001b[0m\u001b[0mtempR\u001b[0m\u001b[1;33m)\u001b[0m\u001b[1;33m:\u001b[0m\u001b[1;33m\u001b[0m\u001b[1;33m\u001b[0m\u001b[0m\n\u001b[1;32m----> 4\u001b[1;33m     \u001b[0mos\u001b[0m\u001b[1;33m.\u001b[0m\u001b[0mmkdir\u001b[0m\u001b[1;33m(\u001b[0m\u001b[0mtempR\u001b[0m\u001b[1;33m)\u001b[0m\u001b[1;33m\u001b[0m\u001b[1;33m\u001b[0m\u001b[0m\n\u001b[0m\u001b[0;32m      5\u001b[0m     \u001b[0mprint\u001b[0m\u001b[1;33m(\u001b[0m\u001b[1;34m\"Directory \"\u001b[0m\u001b[1;33m,\u001b[0m \u001b[1;34m\"tempR\"\u001b[0m\u001b[1;33m,\u001b[0m \u001b[1;34m\" Created \"\u001b[0m\u001b[1;33m)\u001b[0m\u001b[1;33m\u001b[0m\u001b[1;33m\u001b[0m\u001b[0m\n\u001b[0;32m      6\u001b[0m \u001b[1;32melse\u001b[0m\u001b[1;33m:\u001b[0m\u001b[1;33m\u001b[0m\u001b[1;33m\u001b[0m\u001b[0m\n",
      "\u001b[1;31mFileNotFoundError\u001b[0m: [WinError 3] El sistema no puede encontrar la ruta especificada: 'data/resultados/temp/'"
     ]
    }
   ],
   "source": [
    "ruta = \"data/resultados/\"\n",
    "tempR = ruta + \"temp/\"\n",
    "if not os.path.exists(tempR):\n",
    "    os.mkdir(tempR)\n",
    "    print(\"Directory \", \"tempR\", \" Created \")\n",
    "else:\n",
    "    print(\"Directory \", \"tempR\", \" already exists\")"
   ]
  },
  {
   "cell_type": "code",
   "execution_count": 23,
   "id": "244c89b0",
   "metadata": {},
   "outputs": [
    {
     "ename": "NameError",
     "evalue": "name 'li' is not defined",
     "output_type": "error",
     "traceback": [
      "\u001b[1;31m---------------------------------------------------------------------------\u001b[0m",
      "\u001b[1;31mNameError\u001b[0m                                 Traceback (most recent call last)",
      "\u001b[1;32m<ipython-input-23-13cd25fdffee>\u001b[0m in \u001b[0;36m<module>\u001b[1;34m\u001b[0m\n\u001b[1;32m----> 1\u001b[1;33m \u001b[1;32mfor\u001b[0m \u001b[0mi\u001b[0m \u001b[1;32min\u001b[0m \u001b[0mli\u001b[0m\u001b[1;33m:\u001b[0m\u001b[1;33m\u001b[0m\u001b[1;33m\u001b[0m\u001b[0m\n\u001b[0m\u001b[0;32m      2\u001b[0m     \u001b[0mentidad\u001b[0m \u001b[1;33m=\u001b[0m \u001b[0mi\u001b[0m\u001b[1;33m\u001b[0m\u001b[1;33m\u001b[0m\u001b[0m\n\u001b[0;32m      3\u001b[0m     \u001b[0mpdf\u001b[0m \u001b[1;33m=\u001b[0m \u001b[0mPDF\u001b[0m\u001b[1;33m(\u001b[0m\u001b[0morientation\u001b[0m\u001b[1;33m=\u001b[0m\u001b[1;34m\"P\"\u001b[0m\u001b[1;33m,\u001b[0m \u001b[0munit\u001b[0m\u001b[1;33m=\u001b[0m\u001b[1;34m\"mm\"\u001b[0m\u001b[1;33m,\u001b[0m \u001b[0mformat\u001b[0m\u001b[1;33m=\u001b[0m\u001b[1;34m\"A4\"\u001b[0m\u001b[1;33m)\u001b[0m\u001b[1;33m\u001b[0m\u001b[1;33m\u001b[0m\u001b[0m\n\u001b[0;32m      4\u001b[0m     \u001b[0mpdf\u001b[0m\u001b[1;33m.\u001b[0m\u001b[0malias_nb_pages\u001b[0m\u001b[1;33m(\u001b[0m\u001b[1;33m)\u001b[0m\u001b[1;33m\u001b[0m\u001b[1;33m\u001b[0m\u001b[0m\n\u001b[0;32m      5\u001b[0m     \u001b[0mpdf\u001b[0m\u001b[1;33m.\u001b[0m\u001b[0madd_page\u001b[0m\u001b[1;33m(\u001b[0m\u001b[1;33m)\u001b[0m\u001b[1;33m\u001b[0m\u001b[1;33m\u001b[0m\u001b[0m\n",
      "\u001b[1;31mNameError\u001b[0m: name 'li' is not defined"
     ]
    }
   ],
   "source": [
    "for i in li:\n",
    "    entidad = i\n",
    "    pdf = PDF(orientation=\"P\", unit=\"mm\", format=\"A4\")\n",
    "    pdf.alias_nb_pages()\n",
    "    pdf.add_page()\n",
    "    pdf.set_font(\"Arial\", \"B\", 20)\n",
    "    pdf.set_text_color(255, 255, 255)\n",
    "    pdf.image(\"src/report/plantilla.png\", x=0, y=0, w=210, h=297)\n",
    "    pdf.header_pdf()\n",
    "    pdf.graphics_pdf()\n",
    "    pdf.ln()\n",
    "    pdf.output(ruta + \"reporte_\" + entidad + \".pdf\")"
   ]
  },
  {
   "cell_type": "code",
   "execution_count": 24,
   "id": "04f60fb6",
   "metadata": {},
   "outputs": [
    {
     "ename": "FileNotFoundError",
     "evalue": "[WinError 3] El sistema no puede encontrar la ruta especificada: 'data/resultados/temp/'",
     "output_type": "error",
     "traceback": [
      "\u001b[1;31m---------------------------------------------------------------------------\u001b[0m",
      "\u001b[1;31mFileNotFoundError\u001b[0m                         Traceback (most recent call last)",
      "\u001b[1;32m<ipython-input-24-5840367c4edb>\u001b[0m in \u001b[0;36m<module>\u001b[1;34m\u001b[0m\n\u001b[1;32m----> 1\u001b[1;33m \u001b[0mshutil\u001b[0m\u001b[1;33m.\u001b[0m\u001b[0mrmtree\u001b[0m\u001b[1;33m(\u001b[0m\u001b[0mtempR\u001b[0m\u001b[1;33m)\u001b[0m\u001b[1;33m\u001b[0m\u001b[1;33m\u001b[0m\u001b[0m\n\u001b[0m\u001b[0;32m      2\u001b[0m \u001b[0msend_mail\u001b[0m\u001b[1;33m(\u001b[0m\u001b[1;33m)\u001b[0m\u001b[1;33m\u001b[0m\u001b[1;33m\u001b[0m\u001b[0m\n",
      "\u001b[1;32m~\\anaconda3\\lib\\shutil.py\u001b[0m in \u001b[0;36mrmtree\u001b[1;34m(path, ignore_errors, onerror)\u001b[0m\n\u001b[0;32m    738\u001b[0m             \u001b[1;31m# can't continue even if onerror hook returns\u001b[0m\u001b[1;33m\u001b[0m\u001b[1;33m\u001b[0m\u001b[1;33m\u001b[0m\u001b[0m\n\u001b[0;32m    739\u001b[0m             \u001b[1;32mreturn\u001b[0m\u001b[1;33m\u001b[0m\u001b[1;33m\u001b[0m\u001b[0m\n\u001b[1;32m--> 740\u001b[1;33m         \u001b[1;32mreturn\u001b[0m \u001b[0m_rmtree_unsafe\u001b[0m\u001b[1;33m(\u001b[0m\u001b[0mpath\u001b[0m\u001b[1;33m,\u001b[0m \u001b[0monerror\u001b[0m\u001b[1;33m)\u001b[0m\u001b[1;33m\u001b[0m\u001b[1;33m\u001b[0m\u001b[0m\n\u001b[0m\u001b[0;32m    741\u001b[0m \u001b[1;33m\u001b[0m\u001b[0m\n\u001b[0;32m    742\u001b[0m \u001b[1;31m# Allow introspection of whether or not the hardening against symlink\u001b[0m\u001b[1;33m\u001b[0m\u001b[1;33m\u001b[0m\u001b[1;33m\u001b[0m\u001b[0m\n",
      "\u001b[1;32m~\\anaconda3\\lib\\shutil.py\u001b[0m in \u001b[0;36m_rmtree_unsafe\u001b[1;34m(path, onerror)\u001b[0m\n\u001b[0;32m    597\u001b[0m             \u001b[0mentries\u001b[0m \u001b[1;33m=\u001b[0m \u001b[0mlist\u001b[0m\u001b[1;33m(\u001b[0m\u001b[0mscandir_it\u001b[0m\u001b[1;33m)\u001b[0m\u001b[1;33m\u001b[0m\u001b[1;33m\u001b[0m\u001b[0m\n\u001b[0;32m    598\u001b[0m     \u001b[1;32mexcept\u001b[0m \u001b[0mOSError\u001b[0m\u001b[1;33m:\u001b[0m\u001b[1;33m\u001b[0m\u001b[1;33m\u001b[0m\u001b[0m\n\u001b[1;32m--> 599\u001b[1;33m         \u001b[0monerror\u001b[0m\u001b[1;33m(\u001b[0m\u001b[0mos\u001b[0m\u001b[1;33m.\u001b[0m\u001b[0mscandir\u001b[0m\u001b[1;33m,\u001b[0m \u001b[0mpath\u001b[0m\u001b[1;33m,\u001b[0m \u001b[0msys\u001b[0m\u001b[1;33m.\u001b[0m\u001b[0mexc_info\u001b[0m\u001b[1;33m(\u001b[0m\u001b[1;33m)\u001b[0m\u001b[1;33m)\u001b[0m\u001b[1;33m\u001b[0m\u001b[1;33m\u001b[0m\u001b[0m\n\u001b[0m\u001b[0;32m    600\u001b[0m         \u001b[0mentries\u001b[0m \u001b[1;33m=\u001b[0m \u001b[1;33m[\u001b[0m\u001b[1;33m]\u001b[0m\u001b[1;33m\u001b[0m\u001b[1;33m\u001b[0m\u001b[0m\n\u001b[0;32m    601\u001b[0m     \u001b[1;32mfor\u001b[0m \u001b[0mentry\u001b[0m \u001b[1;32min\u001b[0m \u001b[0mentries\u001b[0m\u001b[1;33m:\u001b[0m\u001b[1;33m\u001b[0m\u001b[1;33m\u001b[0m\u001b[0m\n",
      "\u001b[1;32m~\\anaconda3\\lib\\shutil.py\u001b[0m in \u001b[0;36m_rmtree_unsafe\u001b[1;34m(path, onerror)\u001b[0m\n\u001b[0;32m    594\u001b[0m \u001b[1;32mdef\u001b[0m \u001b[0m_rmtree_unsafe\u001b[0m\u001b[1;33m(\u001b[0m\u001b[0mpath\u001b[0m\u001b[1;33m,\u001b[0m \u001b[0monerror\u001b[0m\u001b[1;33m)\u001b[0m\u001b[1;33m:\u001b[0m\u001b[1;33m\u001b[0m\u001b[1;33m\u001b[0m\u001b[0m\n\u001b[0;32m    595\u001b[0m     \u001b[1;32mtry\u001b[0m\u001b[1;33m:\u001b[0m\u001b[1;33m\u001b[0m\u001b[1;33m\u001b[0m\u001b[0m\n\u001b[1;32m--> 596\u001b[1;33m         \u001b[1;32mwith\u001b[0m \u001b[0mos\u001b[0m\u001b[1;33m.\u001b[0m\u001b[0mscandir\u001b[0m\u001b[1;33m(\u001b[0m\u001b[0mpath\u001b[0m\u001b[1;33m)\u001b[0m \u001b[1;32mas\u001b[0m \u001b[0mscandir_it\u001b[0m\u001b[1;33m:\u001b[0m\u001b[1;33m\u001b[0m\u001b[1;33m\u001b[0m\u001b[0m\n\u001b[0m\u001b[0;32m    597\u001b[0m             \u001b[0mentries\u001b[0m \u001b[1;33m=\u001b[0m \u001b[0mlist\u001b[0m\u001b[1;33m(\u001b[0m\u001b[0mscandir_it\u001b[0m\u001b[1;33m)\u001b[0m\u001b[1;33m\u001b[0m\u001b[1;33m\u001b[0m\u001b[0m\n\u001b[0;32m    598\u001b[0m     \u001b[1;32mexcept\u001b[0m \u001b[0mOSError\u001b[0m\u001b[1;33m:\u001b[0m\u001b[1;33m\u001b[0m\u001b[1;33m\u001b[0m\u001b[0m\n",
      "\u001b[1;31mFileNotFoundError\u001b[0m: [WinError 3] El sistema no puede encontrar la ruta especificada: 'data/resultados/temp/'"
     ]
    }
   ],
   "source": [
    "shutil.rmtree(tempR)\n",
    "send_mail()"
   ]
  },
  {
   "cell_type": "code",
   "execution_count": null,
   "id": "4e163a6b",
   "metadata": {},
   "outputs": [],
   "source": []
  },
  {
   "cell_type": "code",
   "execution_count": null,
   "id": "0d1e752e",
   "metadata": {},
   "outputs": [],
   "source": []
  }
 ],
 "metadata": {
  "kernelspec": {
   "display_name": "Python 3",
   "language": "python",
   "name": "python3"
  },
  "language_info": {
   "codemirror_mode": {
    "name": "ipython",
    "version": 3
   },
   "file_extension": ".py",
   "mimetype": "text/x-python",
   "name": "python",
   "nbconvert_exporter": "python",
   "pygments_lexer": "ipython3",
   "version": "3.8.8"
  }
 },
 "nbformat": 4,
 "nbformat_minor": 5
}
